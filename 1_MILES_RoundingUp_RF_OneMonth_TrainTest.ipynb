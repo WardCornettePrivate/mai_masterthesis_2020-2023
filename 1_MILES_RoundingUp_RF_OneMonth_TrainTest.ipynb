{
 "cells": [
  {
   "cell_type": "markdown",
   "id": "9b1285fa-0f81-4855-bdca-84273e60b737",
   "metadata": {},
   "source": [
    "# Import"
   ]
  },
  {
   "cell_type": "markdown",
   "id": "317433f4-8542-409b-9e91-19a6ea96203e",
   "metadata": {},
   "source": [
    "## Dependencies"
   ]
  },
  {
   "cell_type": "code",
   "execution_count": 1,
   "id": "8ed92e57-e0a0-46c9-ab4b-8a7ef9ecada7",
   "metadata": {},
   "outputs": [],
   "source": [
    "import time\n",
    "import numpy as np\n",
    "import pandas as pd\n",
    "start_time = time.time()\n",
    "from tqdm import tqdm\n",
    "import matplotlib.pyplot as plt\n",
    "pd.set_option('display.max_columns', None)"
   ]
  },
  {
   "cell_type": "markdown",
   "id": "4d08ca81-15b4-4dd0-9aa7-0a523a73f4c7",
   "metadata": {},
   "source": [
    "## Data"
   ]
  },
  {
   "cell_type": "code",
   "execution_count": 2,
   "id": "6e1906ac-cdbd-47bb-a2f1-6444f185d075",
   "metadata": {
    "tags": []
   },
   "outputs": [],
   "source": [
    "# Load np array\n",
    "features = np.load('../10_data/features.npy', allow_pickle=True)\n",
    "\n",
    "bags_train = np.load('../10_data/bags.npy', allow_pickle=True)\n",
    "id_bags_train = np.load('../10_data/id_bags.npy', allow_pickle=True)\n",
    "date_bags_train = np.load('../10_data/date_bags.npy', allow_pickle=True)\n",
    "y_round_up_bag_train = np.load('../10_data/y_round_up_bag.npy', allow_pickle=True).astype('int')\n",
    "y_ins_train = np.load('../10_data/y_ins.npy', allow_pickle=True)"
   ]
  },
  {
   "cell_type": "code",
   "execution_count": 3,
   "id": "1d06ab65-22f2-4b7f-8636-529ea1b9fcc2",
   "metadata": {
    "tags": []
   },
   "outputs": [
    {
     "name": "stdout",
     "output_type": "stream",
     "text": [
      "Training set:\n",
      "- There are 13813 bags\n",
      "- There are 13813 labels with values [0, 1]\n",
      "- Bags length varies between 1 and 78\n",
      "- Element length varies between 14 and 14\n"
     ]
    }
   ],
   "source": [
    "def print_data_stats(list_x, list_y):\n",
    "    print('- There are {} bags'.format(len(list_x)))\n",
    "    print('- There are {} labels with values [{}]'.format(len(list_y), ', '.join([str(i) for i in np.unique(list_y)])))\n",
    "    \n",
    "    bags_len = [len(i) for i in list_x]\n",
    "    print('- Bags length varies between {} and {}'.format(min(bags_len), max(bags_len)))\n",
    "    \n",
    "    elem_len = [len(e) for sl in list_x for e in sl]\n",
    "    print('- Element length varies between {} and {}'.format(min(elem_len), max(elem_len)))\n",
    "\n",
    "print('Training set:')\n",
    "print_data_stats(bags_train, y_round_up_bag_train)"
   ]
  },
  {
   "cell_type": "markdown",
   "id": "85dcb9a7-d697-4dc9-908e-87fe6030ec53",
   "metadata": {},
   "source": [
    "## Example"
   ]
  },
  {
   "cell_type": "code",
   "execution_count": 4,
   "id": "b949fed7-6e6c-4844-9a85-7a780d68d728",
   "metadata": {},
   "outputs": [
    {
     "name": "stdout",
     "output_type": "stream",
     "text": [
      "Selected bag with id 4939\n",
      "Selected bag with date [2021 5 22]\n",
      "16 invoice lines\n",
      "bag label 'Round up' = 1\n",
      "instance labels = ['ROUND_UP' 'NONE' 'NONE' 'NONE' 'NONE' 'NONE' 'NONE' 'NONE' 'NONE' 'NONE'\n",
      " 'ROUND_DOWN' 'OTHER' 'ROUND_DOWN' 'NONE' 'NONE' 'OTHER']\n",
      "Invoice nr = 2107698\n"
     ]
    }
   ],
   "source": [
    "def draw_example(df_bags, df_bags_ins, df_bags_y_round_up, df_bag_id, df_bag_date=None):\n",
    "    bag_idx = np.random.randint(0, len(df_bags))\n",
    "    print('Selected bag with id {}'.format(bag_idx))\n",
    "    if df_bag_date is not None:\n",
    "        print('Selected bag with date {}'.format(df_bag_date[bag_idx]))\n",
    "    print('{} invoice lines'.format(len(df_bags[bag_idx])))\n",
    "    \n",
    "    print_bag_details(bag_idx, df_bags_ins, df_bags_y_round_up, df_bag_id)\n",
    "    \n",
    "    return bag_idx\n",
    "\n",
    "def print_bag_details(bag_idx, df_bags_ins, df_bags_y_round_up, df_bag_id, search_admin_customer=False):\n",
    "    print('bag label \\'Round up\\' = {}'.format(df_bags_y_round_up[bag_idx]))\n",
    "    print('instance labels = {}'.format(df_bags_ins[bag_idx]))\n",
    "    print('Invoice nr = {}'.format(df_bag_id[bag_idx]))\n",
    "\n",
    "    if search_admin_customer:\n",
    "        from admin import admin_sql\n",
    "        cnxn_sql = admin_sql.AdminSql(r'C:\\Users\\Ward.RFN\\Downloads\\credentials\\AdminSQL_Credentials_Production.json')\n",
    "        print('Customer Id = {}'.format(cnxn_sql.sql_query('SELECT CUSTOMER_ID FROM DBA.INVOICE WHERE INVOICE_NR = \\'{}\\''.format(df_bag_id[bag_idx]))['CUSTOMER_ID'].iloc[0]))\n",
    "\n",
    "bag_idx = draw_example(bags_train, y_ins_train, y_round_up_bag_train, id_bags_train, date_bags_train)"
   ]
  },
  {
   "cell_type": "code",
   "execution_count": 5,
   "id": "74db0e63-6e03-4496-afa1-d8552107d9d2",
   "metadata": {},
   "outputs": [
    {
     "data": {
      "text/plain": [
       "array(['ROUND_UP', 'NONE', 'NONE', 'NONE', 'NONE', 'NONE', 'NONE', 'NONE',\n",
       "       'NONE', 'NONE', 'ROUND_DOWN', 'OTHER', 'ROUND_DOWN', 'NONE',\n",
       "       'NONE', 'OTHER'], dtype=object)"
      ]
     },
     "execution_count": 5,
     "metadata": {},
     "output_type": "execute_result"
    }
   ],
   "source": [
    "y_ins_train[bag_idx]"
   ]
  },
  {
   "cell_type": "code",
   "execution_count": 6,
   "id": "6349877c-b275-4ffd-ab1b-a3bffe33c539",
   "metadata": {},
   "outputs": [
    {
     "data": {
      "text/html": [
       "<div>\n",
       "<style scoped>\n",
       "    .dataframe tbody tr th:only-of-type {\n",
       "        vertical-align: middle;\n",
       "    }\n",
       "\n",
       "    .dataframe tbody tr th {\n",
       "        vertical-align: top;\n",
       "    }\n",
       "\n",
       "    .dataframe thead th {\n",
       "        text-align: right;\n",
       "    }\n",
       "</style>\n",
       "<table border=\"1\" class=\"dataframe\">\n",
       "  <thead>\n",
       "    <tr style=\"text-align: right;\">\n",
       "      <th></th>\n",
       "      <th>INVOICE_RATE_HOUR</th>\n",
       "      <th>REG_OBJECT_INVOICED</th>\n",
       "      <th>REMARK_LENGTH</th>\n",
       "      <th>INTERNAL_REMARK_LENGTH</th>\n",
       "      <th>LINE_TARIFF</th>\n",
       "      <th>LINE_ORIGINAL_QUANTITY</th>\n",
       "      <th>F_PRESTATION_BY_PM</th>\n",
       "      <th>F_COLLEAGUE_EXP_DAYS</th>\n",
       "      <th>F_PM_EXP_DAYS</th>\n",
       "      <th>F_DISTANCE_5_MIN</th>\n",
       "      <th>F_DISTANCE_10_MIN</th>\n",
       "      <th>F_DIFF_SELL_TO_CUST</th>\n",
       "      <th>PROJECT_TYPE_DESCRIPTION_Dossier Compta</th>\n",
       "      <th>PROJECT_TYPE_DESCRIPTION_Dossier Social</th>\n",
       "    </tr>\n",
       "  </thead>\n",
       "  <tbody>\n",
       "    <tr>\n",
       "      <th>0</th>\n",
       "      <td>79.514809</td>\n",
       "      <td>1.0</td>\n",
       "      <td>184.0</td>\n",
       "      <td>0.0</td>\n",
       "      <td>83.199997</td>\n",
       "      <td>5.0</td>\n",
       "      <td>1.0</td>\n",
       "      <td>463.0</td>\n",
       "      <td>463.0</td>\n",
       "      <td>0.0</td>\n",
       "      <td>1.0</td>\n",
       "      <td>0.0</td>\n",
       "      <td>1.0</td>\n",
       "      <td>0.0</td>\n",
       "    </tr>\n",
       "    <tr>\n",
       "      <th>1</th>\n",
       "      <td>79.514809</td>\n",
       "      <td>1.0</td>\n",
       "      <td>73.0</td>\n",
       "      <td>0.0</td>\n",
       "      <td>83.199997</td>\n",
       "      <td>10.0</td>\n",
       "      <td>1.0</td>\n",
       "      <td>471.0</td>\n",
       "      <td>471.0</td>\n",
       "      <td>1.0</td>\n",
       "      <td>0.0</td>\n",
       "      <td>0.0</td>\n",
       "      <td>1.0</td>\n",
       "      <td>0.0</td>\n",
       "    </tr>\n",
       "    <tr>\n",
       "      <th>2</th>\n",
       "      <td>79.514809</td>\n",
       "      <td>1.0</td>\n",
       "      <td>63.0</td>\n",
       "      <td>0.0</td>\n",
       "      <td>108.500000</td>\n",
       "      <td>30.0</td>\n",
       "      <td>0.0</td>\n",
       "      <td>4693.0</td>\n",
       "      <td>472.0</td>\n",
       "      <td>0.0</td>\n",
       "      <td>0.0</td>\n",
       "      <td>0.0</td>\n",
       "      <td>1.0</td>\n",
       "      <td>0.0</td>\n",
       "    </tr>\n",
       "    <tr>\n",
       "      <th>3</th>\n",
       "      <td>79.514809</td>\n",
       "      <td>1.0</td>\n",
       "      <td>128.0</td>\n",
       "      <td>31.0</td>\n",
       "      <td>83.199997</td>\n",
       "      <td>60.0</td>\n",
       "      <td>1.0</td>\n",
       "      <td>462.0</td>\n",
       "      <td>462.0</td>\n",
       "      <td>0.0</td>\n",
       "      <td>0.0</td>\n",
       "      <td>0.0</td>\n",
       "      <td>1.0</td>\n",
       "      <td>0.0</td>\n",
       "    </tr>\n",
       "    <tr>\n",
       "      <th>4</th>\n",
       "      <td>79.514809</td>\n",
       "      <td>1.0</td>\n",
       "      <td>121.0</td>\n",
       "      <td>0.0</td>\n",
       "      <td>83.199997</td>\n",
       "      <td>145.0</td>\n",
       "      <td>0.0</td>\n",
       "      <td>230.0</td>\n",
       "      <td>471.0</td>\n",
       "      <td>1.0</td>\n",
       "      <td>0.0</td>\n",
       "      <td>0.0</td>\n",
       "      <td>1.0</td>\n",
       "      <td>0.0</td>\n",
       "    </tr>\n",
       "  </tbody>\n",
       "</table>\n",
       "</div>"
      ],
      "text/plain": [
       "   INVOICE_RATE_HOUR  REG_OBJECT_INVOICED  REMARK_LENGTH  \\\n",
       "0          79.514809                  1.0          184.0   \n",
       "1          79.514809                  1.0           73.0   \n",
       "2          79.514809                  1.0           63.0   \n",
       "3          79.514809                  1.0          128.0   \n",
       "4          79.514809                  1.0          121.0   \n",
       "\n",
       "   INTERNAL_REMARK_LENGTH  LINE_TARIFF  LINE_ORIGINAL_QUANTITY  \\\n",
       "0                     0.0    83.199997                     5.0   \n",
       "1                     0.0    83.199997                    10.0   \n",
       "2                     0.0   108.500000                    30.0   \n",
       "3                    31.0    83.199997                    60.0   \n",
       "4                     0.0    83.199997                   145.0   \n",
       "\n",
       "   F_PRESTATION_BY_PM  F_COLLEAGUE_EXP_DAYS  F_PM_EXP_DAYS  F_DISTANCE_5_MIN  \\\n",
       "0                 1.0                 463.0          463.0               0.0   \n",
       "1                 1.0                 471.0          471.0               1.0   \n",
       "2                 0.0                4693.0          472.0               0.0   \n",
       "3                 1.0                 462.0          462.0               0.0   \n",
       "4                 0.0                 230.0          471.0               1.0   \n",
       "\n",
       "   F_DISTANCE_10_MIN  F_DIFF_SELL_TO_CUST  \\\n",
       "0                1.0                  0.0   \n",
       "1                0.0                  0.0   \n",
       "2                0.0                  0.0   \n",
       "3                0.0                  0.0   \n",
       "4                0.0                  0.0   \n",
       "\n",
       "   PROJECT_TYPE_DESCRIPTION_Dossier Compta  \\\n",
       "0                                      1.0   \n",
       "1                                      1.0   \n",
       "2                                      1.0   \n",
       "3                                      1.0   \n",
       "4                                      1.0   \n",
       "\n",
       "   PROJECT_TYPE_DESCRIPTION_Dossier Social  \n",
       "0                                      0.0  \n",
       "1                                      0.0  \n",
       "2                                      0.0  \n",
       "3                                      0.0  \n",
       "4                                      0.0  "
      ]
     },
     "execution_count": 6,
     "metadata": {},
     "output_type": "execute_result"
    }
   ],
   "source": [
    "pd.DataFrame(data=bags_train[bag_idx], columns=features).head()"
   ]
  },
  {
   "cell_type": "markdown",
   "id": "8c6991b6-6413-4efa-b186-f48fd30a0493",
   "metadata": {},
   "source": [
    "# Limit dataset size"
   ]
  },
  {
   "cell_type": "code",
   "execution_count": 7,
   "id": "3d0233a1-0fc3-4532-bc3e-5460e00d4289",
   "metadata": {},
   "outputs": [
    {
     "data": {
      "text/html": [
       "<div>\n",
       "<style scoped>\n",
       "    .dataframe tbody tr th:only-of-type {\n",
       "        vertical-align: middle;\n",
       "    }\n",
       "\n",
       "    .dataframe tbody tr th {\n",
       "        vertical-align: top;\n",
       "    }\n",
       "\n",
       "    .dataframe thead th {\n",
       "        text-align: right;\n",
       "    }\n",
       "</style>\n",
       "<table border=\"1\" class=\"dataframe\">\n",
       "  <thead>\n",
       "    <tr style=\"text-align: right;\">\n",
       "      <th></th>\n",
       "      <th>0</th>\n",
       "      <th>1</th>\n",
       "      <th>2</th>\n",
       "      <th>3</th>\n",
       "      <th>4</th>\n",
       "      <th>5</th>\n",
       "      <th>6</th>\n",
       "      <th>7</th>\n",
       "      <th>8</th>\n",
       "      <th>9</th>\n",
       "      <th>10</th>\n",
       "      <th>11</th>\n",
       "    </tr>\n",
       "  </thead>\n",
       "  <tbody>\n",
       "    <tr>\n",
       "      <th>0</th>\n",
       "      <td>1</td>\n",
       "      <td>2</td>\n",
       "      <td>3</td>\n",
       "      <td>4</td>\n",
       "      <td>5</td>\n",
       "      <td>6</td>\n",
       "      <td>7</td>\n",
       "      <td>8</td>\n",
       "      <td>9</td>\n",
       "      <td>10</td>\n",
       "      <td>11</td>\n",
       "      <td>12</td>\n",
       "    </tr>\n",
       "    <tr>\n",
       "      <th>1</th>\n",
       "      <td>1078</td>\n",
       "      <td>1073</td>\n",
       "      <td>1105</td>\n",
       "      <td>1457</td>\n",
       "      <td>731</td>\n",
       "      <td>1305</td>\n",
       "      <td>1249</td>\n",
       "      <td>986</td>\n",
       "      <td>1105</td>\n",
       "      <td>1276</td>\n",
       "      <td>1262</td>\n",
       "      <td>1186</td>\n",
       "    </tr>\n",
       "  </tbody>\n",
       "</table>\n",
       "</div>"
      ],
      "text/plain": [
       "     0     1     2     3    4     5     6    7     8     9     10    11\n",
       "0     1     2     3     4    5     6     7    8     9    10    11    12\n",
       "1  1078  1073  1105  1457  731  1305  1249  986  1105  1276  1262  1186"
      ]
     },
     "execution_count": 7,
     "metadata": {},
     "output_type": "execute_result"
    }
   ],
   "source": [
    "invoice_months = np.array([i[1] for i in date_bags_train])\n",
    "pd.DataFrame(np.unique(invoice_months, return_counts=True))"
   ]
  },
  {
   "cell_type": "code",
   "execution_count": 8,
   "id": "97208109-a3d0-46f9-bfac-04c032f5ffcd",
   "metadata": {},
   "outputs": [],
   "source": [
    "bags_train_1 = bags_train[invoice_months == 1]\n",
    "id_bags_train_1 = id_bags_train[invoice_months == 1]\n",
    "y_round_up_bag_train_1 = y_round_up_bag_train[invoice_months == 1]\n",
    "y_ins_train_1 = y_ins_train[invoice_months == 1]\n",
    "\n",
    "bags_train_2 = bags_train[invoice_months == 2]\n",
    "id_bags_train_2 = id_bags_train[invoice_months == 2]\n",
    "y_round_up_bag_train_2 = y_round_up_bag_train[invoice_months == 2]\n",
    "y_ins_train_2 = y_ins_train[invoice_months == 2]"
   ]
  },
  {
   "cell_type": "markdown",
   "id": "0190df85-2657-462a-a66f-c4f11936fa3f",
   "metadata": {},
   "source": [
    "# Pipeline components"
   ]
  },
  {
   "cell_type": "markdown",
   "id": "1879e7fe-4f42-46b3-adc3-c2e948b8bf82",
   "metadata": {},
   "source": [
    "## StandarizerBagsList"
   ]
  },
  {
   "cell_type": "code",
   "execution_count": 9,
   "id": "52c6b1e8-ab2d-4168-9751-18f958a9db50",
   "metadata": {},
   "outputs": [
    {
     "name": "stdout",
     "output_type": "stream",
     "text": [
      "Standardizer fitting time: 0.02 sec\n"
     ]
    },
    {
     "data": {
      "text/html": [
       "<div>\n",
       "<style scoped>\n",
       "    .dataframe tbody tr th:only-of-type {\n",
       "        vertical-align: middle;\n",
       "    }\n",
       "\n",
       "    .dataframe tbody tr th {\n",
       "        vertical-align: top;\n",
       "    }\n",
       "\n",
       "    .dataframe thead th {\n",
       "        text-align: right;\n",
       "    }\n",
       "</style>\n",
       "<table border=\"1\" class=\"dataframe\">\n",
       "  <thead>\n",
       "    <tr style=\"text-align: right;\">\n",
       "      <th></th>\n",
       "      <th>INVOICE_RATE_HOUR</th>\n",
       "      <th>REG_OBJECT_INVOICED</th>\n",
       "      <th>REMARK_LENGTH</th>\n",
       "      <th>INTERNAL_REMARK_LENGTH</th>\n",
       "      <th>LINE_TARIFF</th>\n",
       "      <th>LINE_ORIGINAL_QUANTITY</th>\n",
       "      <th>F_PRESTATION_BY_PM</th>\n",
       "      <th>F_COLLEAGUE_EXP_DAYS</th>\n",
       "      <th>F_PM_EXP_DAYS</th>\n",
       "      <th>F_DISTANCE_5_MIN</th>\n",
       "      <th>F_DISTANCE_10_MIN</th>\n",
       "      <th>F_DIFF_SELL_TO_CUST</th>\n",
       "      <th>PROJECT_TYPE_DESCRIPTION_Dossier Compta</th>\n",
       "      <th>PROJECT_TYPE_DESCRIPTION_Dossier Social</th>\n",
       "    </tr>\n",
       "  </thead>\n",
       "  <tbody>\n",
       "    <tr>\n",
       "      <th>0</th>\n",
       "      <td>94.539965</td>\n",
       "      <td>0.0</td>\n",
       "      <td>102.660429</td>\n",
       "      <td>11.760481</td>\n",
       "      <td>88.846846</td>\n",
       "      <td>41.692629</td>\n",
       "      <td>0.0</td>\n",
       "      <td>2037.442760</td>\n",
       "      <td>1859.773968</td>\n",
       "      <td>0.0</td>\n",
       "      <td>0.0</td>\n",
       "      <td>0.0</td>\n",
       "      <td>0.0</td>\n",
       "      <td>0.0</td>\n",
       "    </tr>\n",
       "    <tr>\n",
       "      <th>1</th>\n",
       "      <td>44.500064</td>\n",
       "      <td>1.0</td>\n",
       "      <td>73.817756</td>\n",
       "      <td>33.158868</td>\n",
       "      <td>10.582455</td>\n",
       "      <td>69.764743</td>\n",
       "      <td>1.0</td>\n",
       "      <td>1869.067972</td>\n",
       "      <td>1484.354047</td>\n",
       "      <td>1.0</td>\n",
       "      <td>1.0</td>\n",
       "      <td>1.0</td>\n",
       "      <td>1.0</td>\n",
       "      <td>1.0</td>\n",
       "    </tr>\n",
       "  </tbody>\n",
       "</table>\n",
       "</div>"
      ],
      "text/plain": [
       "   INVOICE_RATE_HOUR  REG_OBJECT_INVOICED  REMARK_LENGTH  \\\n",
       "0          94.539965                  0.0     102.660429   \n",
       "1          44.500064                  1.0      73.817756   \n",
       "\n",
       "   INTERNAL_REMARK_LENGTH  LINE_TARIFF  LINE_ORIGINAL_QUANTITY  \\\n",
       "0               11.760481    88.846846               41.692629   \n",
       "1               33.158868    10.582455               69.764743   \n",
       "\n",
       "   F_PRESTATION_BY_PM  F_COLLEAGUE_EXP_DAYS  F_PM_EXP_DAYS  F_DISTANCE_5_MIN  \\\n",
       "0                 0.0           2037.442760    1859.773968               0.0   \n",
       "1                 1.0           1869.067972    1484.354047               1.0   \n",
       "\n",
       "   F_DISTANCE_10_MIN  F_DIFF_SELL_TO_CUST  \\\n",
       "0                0.0                  0.0   \n",
       "1                1.0                  1.0   \n",
       "\n",
       "   PROJECT_TYPE_DESCRIPTION_Dossier Compta  \\\n",
       "0                                      0.0   \n",
       "1                                      1.0   \n",
       "\n",
       "   PROJECT_TYPE_DESCRIPTION_Dossier Social  \n",
       "0                                      0.0  \n",
       "1                                      1.0  "
      ]
     },
     "execution_count": 9,
     "metadata": {},
     "output_type": "execute_result"
    }
   ],
   "source": [
    "from preprocessing.standarize_bags import StandarizerBagsList\n",
    "\n",
    "bag_standardizer = StandarizerBagsList()\n",
    "\n",
    "start_time = time.time()\n",
    "bag_standardizer.fit(bags_train_1)\n",
    "print(\"Standardizer fitting time: {:.2f} sec\".format(time.time() - start_time))\n",
    "\n",
    "# Print average and stdev time registration\n",
    "pd.DataFrame(data=[bag_standardizer.mean, bag_standardizer.std], columns=features)"
   ]
  },
  {
   "cell_type": "markdown",
   "id": "be3884c6-0089-4bcf-8b56-03cb766d7070",
   "metadata": {},
   "source": [
    "### Example"
   ]
  },
  {
   "cell_type": "code",
   "execution_count": 10,
   "id": "2f81b6f5-be1c-43f2-afc6-a189e6cc49ff",
   "metadata": {},
   "outputs": [
    {
     "name": "stdout",
     "output_type": "stream",
     "text": [
      "Selected bag with id 800\n",
      "24 invoice lines\n",
      "bag label 'Round up' = 21005138\n",
      "instance labels = 0\n",
      "Invoice nr = 21005138\n"
     ]
    }
   ],
   "source": [
    "bag_idx = draw_example(bags_train_2, y_round_up_bag_train_2, id_bags_train_2, id_bags_train_2)"
   ]
  },
  {
   "cell_type": "code",
   "execution_count": 11,
   "id": "e447f96b-2a25-440e-aa07-9be91330bc0a",
   "metadata": {},
   "outputs": [
    {
     "data": {
      "text/html": [
       "<div>\n",
       "<style scoped>\n",
       "    .dataframe tbody tr th:only-of-type {\n",
       "        vertical-align: middle;\n",
       "    }\n",
       "\n",
       "    .dataframe tbody tr th {\n",
       "        vertical-align: top;\n",
       "    }\n",
       "\n",
       "    .dataframe thead th {\n",
       "        text-align: right;\n",
       "    }\n",
       "</style>\n",
       "<table border=\"1\" class=\"dataframe\">\n",
       "  <thead>\n",
       "    <tr style=\"text-align: right;\">\n",
       "      <th></th>\n",
       "      <th>INVOICE_RATE_HOUR</th>\n",
       "      <th>REG_OBJECT_INVOICED</th>\n",
       "      <th>REMARK_LENGTH</th>\n",
       "      <th>INTERNAL_REMARK_LENGTH</th>\n",
       "      <th>LINE_TARIFF</th>\n",
       "      <th>LINE_ORIGINAL_QUANTITY</th>\n",
       "      <th>F_PRESTATION_BY_PM</th>\n",
       "      <th>F_COLLEAGUE_EXP_DAYS</th>\n",
       "      <th>F_PM_EXP_DAYS</th>\n",
       "      <th>F_DISTANCE_5_MIN</th>\n",
       "      <th>F_DISTANCE_10_MIN</th>\n",
       "      <th>F_DIFF_SELL_TO_CUST</th>\n",
       "      <th>PROJECT_TYPE_DESCRIPTION_Dossier Compta</th>\n",
       "      <th>PROJECT_TYPE_DESCRIPTION_Dossier Social</th>\n",
       "    </tr>\n",
       "  </thead>\n",
       "  <tbody>\n",
       "    <tr>\n",
       "      <th>0</th>\n",
       "      <td>77.858025</td>\n",
       "      <td>1.0</td>\n",
       "      <td>129.0</td>\n",
       "      <td>185.0</td>\n",
       "      <td>108.5</td>\n",
       "      <td>60.0</td>\n",
       "      <td>0.0</td>\n",
       "      <td>84.0</td>\n",
       "      <td>153.0</td>\n",
       "      <td>0.0</td>\n",
       "      <td>0.0</td>\n",
       "      <td>0.0</td>\n",
       "      <td>0.0</td>\n",
       "      <td>1.0</td>\n",
       "    </tr>\n",
       "    <tr>\n",
       "      <th>1</th>\n",
       "      <td>77.858025</td>\n",
       "      <td>1.0</td>\n",
       "      <td>35.0</td>\n",
       "      <td>10.0</td>\n",
       "      <td>108.5</td>\n",
       "      <td>5.0</td>\n",
       "      <td>0.0</td>\n",
       "      <td>1162.0</td>\n",
       "      <td>153.0</td>\n",
       "      <td>0.0</td>\n",
       "      <td>1.0</td>\n",
       "      <td>0.0</td>\n",
       "      <td>0.0</td>\n",
       "      <td>1.0</td>\n",
       "    </tr>\n",
       "    <tr>\n",
       "      <th>2</th>\n",
       "      <td>77.858025</td>\n",
       "      <td>1.0</td>\n",
       "      <td>357.0</td>\n",
       "      <td>201.0</td>\n",
       "      <td>108.5</td>\n",
       "      <td>145.0</td>\n",
       "      <td>0.0</td>\n",
       "      <td>85.0</td>\n",
       "      <td>154.0</td>\n",
       "      <td>1.0</td>\n",
       "      <td>0.0</td>\n",
       "      <td>0.0</td>\n",
       "      <td>0.0</td>\n",
       "      <td>1.0</td>\n",
       "    </tr>\n",
       "  </tbody>\n",
       "</table>\n",
       "</div>"
      ],
      "text/plain": [
       "   INVOICE_RATE_HOUR  REG_OBJECT_INVOICED  REMARK_LENGTH  \\\n",
       "0          77.858025                  1.0          129.0   \n",
       "1          77.858025                  1.0           35.0   \n",
       "2          77.858025                  1.0          357.0   \n",
       "\n",
       "   INTERNAL_REMARK_LENGTH  LINE_TARIFF  LINE_ORIGINAL_QUANTITY  \\\n",
       "0                   185.0        108.5                    60.0   \n",
       "1                    10.0        108.5                     5.0   \n",
       "2                   201.0        108.5                   145.0   \n",
       "\n",
       "   F_PRESTATION_BY_PM  F_COLLEAGUE_EXP_DAYS  F_PM_EXP_DAYS  F_DISTANCE_5_MIN  \\\n",
       "0                 0.0                  84.0          153.0               0.0   \n",
       "1                 0.0                1162.0          153.0               0.0   \n",
       "2                 0.0                  85.0          154.0               1.0   \n",
       "\n",
       "   F_DISTANCE_10_MIN  F_DIFF_SELL_TO_CUST  \\\n",
       "0                0.0                  0.0   \n",
       "1                1.0                  0.0   \n",
       "2                0.0                  0.0   \n",
       "\n",
       "   PROJECT_TYPE_DESCRIPTION_Dossier Compta  \\\n",
       "0                                      0.0   \n",
       "1                                      0.0   \n",
       "2                                      0.0   \n",
       "\n",
       "   PROJECT_TYPE_DESCRIPTION_Dossier Social  \n",
       "0                                      1.0  \n",
       "1                                      1.0  \n",
       "2                                      1.0  "
      ]
     },
     "execution_count": 11,
     "metadata": {},
     "output_type": "execute_result"
    }
   ],
   "source": [
    "# Show example bag\n",
    "pd.DataFrame(data=bags_train_2[bag_idx], columns=features).head(3)"
   ]
  },
  {
   "cell_type": "code",
   "execution_count": 12,
   "id": "1f56d4c1-c1cf-41db-9323-53b52665ef1b",
   "metadata": {},
   "outputs": [
    {
     "data": {
      "text/html": [
       "<div>\n",
       "<style scoped>\n",
       "    .dataframe tbody tr th:only-of-type {\n",
       "        vertical-align: middle;\n",
       "    }\n",
       "\n",
       "    .dataframe tbody tr th {\n",
       "        vertical-align: top;\n",
       "    }\n",
       "\n",
       "    .dataframe thead th {\n",
       "        text-align: right;\n",
       "    }\n",
       "</style>\n",
       "<table border=\"1\" class=\"dataframe\">\n",
       "  <thead>\n",
       "    <tr style=\"text-align: right;\">\n",
       "      <th></th>\n",
       "      <th>INVOICE_RATE_HOUR</th>\n",
       "      <th>REG_OBJECT_INVOICED</th>\n",
       "      <th>REMARK_LENGTH</th>\n",
       "      <th>INTERNAL_REMARK_LENGTH</th>\n",
       "      <th>LINE_TARIFF</th>\n",
       "      <th>LINE_ORIGINAL_QUANTITY</th>\n",
       "      <th>F_PRESTATION_BY_PM</th>\n",
       "      <th>F_COLLEAGUE_EXP_DAYS</th>\n",
       "      <th>F_PM_EXP_DAYS</th>\n",
       "      <th>F_DISTANCE_5_MIN</th>\n",
       "      <th>F_DISTANCE_10_MIN</th>\n",
       "      <th>F_DIFF_SELL_TO_CUST</th>\n",
       "      <th>PROJECT_TYPE_DESCRIPTION_Dossier Compta</th>\n",
       "      <th>PROJECT_TYPE_DESCRIPTION_Dossier Social</th>\n",
       "    </tr>\n",
       "  </thead>\n",
       "  <tbody>\n",
       "    <tr>\n",
       "      <th>0</th>\n",
       "      <td>-0.374875</td>\n",
       "      <td>1.0</td>\n",
       "      <td>0.356819</td>\n",
       "      <td>5.224531</td>\n",
       "      <td>1.857145</td>\n",
       "      <td>0.262416</td>\n",
       "      <td>0.0</td>\n",
       "      <td>-1.045143</td>\n",
       "      <td>-1.149843</td>\n",
       "      <td>0.0</td>\n",
       "      <td>0.0</td>\n",
       "      <td>0.0</td>\n",
       "      <td>0.0</td>\n",
       "      <td>1.0</td>\n",
       "    </tr>\n",
       "    <tr>\n",
       "      <th>1</th>\n",
       "      <td>-0.374875</td>\n",
       "      <td>1.0</td>\n",
       "      <td>-0.916587</td>\n",
       "      <td>-0.053092</td>\n",
       "      <td>1.857145</td>\n",
       "      <td>-0.525948</td>\n",
       "      <td>0.0</td>\n",
       "      <td>-0.468385</td>\n",
       "      <td>-1.149843</td>\n",
       "      <td>0.0</td>\n",
       "      <td>1.0</td>\n",
       "      <td>0.0</td>\n",
       "      <td>0.0</td>\n",
       "      <td>1.0</td>\n",
       "    </tr>\n",
       "    <tr>\n",
       "      <th>2</th>\n",
       "      <td>-0.374875</td>\n",
       "      <td>1.0</td>\n",
       "      <td>3.445507</td>\n",
       "      <td>5.707056</td>\n",
       "      <td>1.857145</td>\n",
       "      <td>1.480796</td>\n",
       "      <td>0.0</td>\n",
       "      <td>-1.044608</td>\n",
       "      <td>-1.149169</td>\n",
       "      <td>1.0</td>\n",
       "      <td>0.0</td>\n",
       "      <td>0.0</td>\n",
       "      <td>0.0</td>\n",
       "      <td>1.0</td>\n",
       "    </tr>\n",
       "  </tbody>\n",
       "</table>\n",
       "</div>"
      ],
      "text/plain": [
       "   INVOICE_RATE_HOUR  REG_OBJECT_INVOICED  REMARK_LENGTH  \\\n",
       "0          -0.374875                  1.0       0.356819   \n",
       "1          -0.374875                  1.0      -0.916587   \n",
       "2          -0.374875                  1.0       3.445507   \n",
       "\n",
       "   INTERNAL_REMARK_LENGTH  LINE_TARIFF  LINE_ORIGINAL_QUANTITY  \\\n",
       "0                5.224531     1.857145                0.262416   \n",
       "1               -0.053092     1.857145               -0.525948   \n",
       "2                5.707056     1.857145                1.480796   \n",
       "\n",
       "   F_PRESTATION_BY_PM  F_COLLEAGUE_EXP_DAYS  F_PM_EXP_DAYS  F_DISTANCE_5_MIN  \\\n",
       "0                 0.0             -1.045143      -1.149843               0.0   \n",
       "1                 0.0             -0.468385      -1.149843               0.0   \n",
       "2                 0.0             -1.044608      -1.149169               1.0   \n",
       "\n",
       "   F_DISTANCE_10_MIN  F_DIFF_SELL_TO_CUST  \\\n",
       "0                0.0                  0.0   \n",
       "1                1.0                  0.0   \n",
       "2                0.0                  0.0   \n",
       "\n",
       "   PROJECT_TYPE_DESCRIPTION_Dossier Compta  \\\n",
       "0                                      0.0   \n",
       "1                                      0.0   \n",
       "2                                      0.0   \n",
       "\n",
       "   PROJECT_TYPE_DESCRIPTION_Dossier Social  \n",
       "0                                      1.0  \n",
       "1                                      1.0  \n",
       "2                                      1.0  "
      ]
     },
     "execution_count": 12,
     "metadata": {},
     "output_type": "execute_result"
    }
   ],
   "source": [
    "# Transfrom one bag\n",
    "pd.DataFrame(data=bag_standardizer.transform([bags_train_2[bag_idx]])[0], columns=features).head(3)"
   ]
  },
  {
   "cell_type": "markdown",
   "id": "78d72ab2-5af0-44d8-b0e4-c366a534f26b",
   "metadata": {},
   "source": [
    "### Standardize data set"
   ]
  },
  {
   "cell_type": "code",
   "execution_count": 13,
   "id": "6bc6e5bf-5847-49c1-97ab-e828ce6ca911",
   "metadata": {},
   "outputs": [
    {
     "name": "stdout",
     "output_type": "stream",
     "text": [
      "Standardizer transform time (train set): 0.02 sec\n",
      "Standardizer transform time (validation set): 0.02 sec\n"
     ]
    }
   ],
   "source": [
    "start_time = time.time()\n",
    "bags_train_1_std = bag_standardizer.transform(bags_train_1)\n",
    "print(\"Standardizer transform time (train set): {:.2f} sec\".format(time.time() - start_time))\n",
    "\n",
    "start_time = time.time()\n",
    "bags_train_2_std = bag_standardizer.transform(bags_train_2)\n",
    "print(\"Standardizer transform time (validation set): {:.2f} sec\".format(time.time() - start_time))"
   ]
  },
  {
   "cell_type": "markdown",
   "id": "07f6adc4-67ae-4cd4-a707-4b0ec4d97abe",
   "metadata": {},
   "source": [
    "## MILESMapping"
   ]
  },
  {
   "cell_type": "code",
   "execution_count": 14,
   "id": "fd72eccb-e78a-4864-8a01-6c3c3e20f5c7",
   "metadata": {},
   "outputs": [
    {
     "name": "stdout",
     "output_type": "stream",
     "text": [
      "MILES Mapping fitting time: 0.00 sec\n"
     ]
    }
   ],
   "source": [
    "from bag_representation.miles_mapping import *\n",
    "\n",
    "bag_miles_mapping = MILESMapping(sigma2=4.5**2, return_iip_bag_closest=True)\n",
    "\n",
    "\n",
    "start_time = time.time()\n",
    "bag_miles_mapping.fit(bags_train_1_std)\n",
    "print(\"MILES Mapping fitting time: {:.2f} sec\".format(time.time() - start_time))"
   ]
  },
  {
   "cell_type": "markdown",
   "id": "75f93c5a-e597-4c03-82a1-7c239559dbd4",
   "metadata": {},
   "source": [
    "### Example"
   ]
  },
  {
   "cell_type": "code",
   "execution_count": 20,
   "id": "0ee785a2-fe08-4792-b450-59d911faa09c",
   "metadata": {},
   "outputs": [
    {
     "name": "stdout",
     "output_type": "stream",
     "text": [
      "Selected bag with id 465\n",
      "8 invoice lines\n",
      "bag label 'Round up' = 2102656\n",
      "instance labels = 0\n",
      "Invoice nr = 2102656\n"
     ]
    }
   ],
   "source": [
    "bag_idx = draw_example(bags_train_2_std, y_round_up_bag_train_2, id_bags_train_2, id_bags_train_2)"
   ]
  },
  {
   "cell_type": "code",
   "execution_count": 21,
   "id": "f85a0239-f55c-4f6c-9d48-1dae97607861",
   "metadata": {},
   "outputs": [
    {
     "data": {
      "text/html": [
       "<div>\n",
       "<style scoped>\n",
       "    .dataframe tbody tr th:only-of-type {\n",
       "        vertical-align: middle;\n",
       "    }\n",
       "\n",
       "    .dataframe tbody tr th {\n",
       "        vertical-align: top;\n",
       "    }\n",
       "\n",
       "    .dataframe thead th {\n",
       "        text-align: right;\n",
       "    }\n",
       "</style>\n",
       "<table border=\"1\" class=\"dataframe\">\n",
       "  <thead>\n",
       "    <tr style=\"text-align: right;\">\n",
       "      <th></th>\n",
       "      <th>INVOICE_RATE_HOUR</th>\n",
       "      <th>REG_OBJECT_INVOICED</th>\n",
       "      <th>REMARK_LENGTH</th>\n",
       "      <th>INTERNAL_REMARK_LENGTH</th>\n",
       "      <th>LINE_TARIFF</th>\n",
       "      <th>LINE_ORIGINAL_QUANTITY</th>\n",
       "      <th>F_PRESTATION_BY_PM</th>\n",
       "      <th>F_COLLEAGUE_EXP_DAYS</th>\n",
       "      <th>F_PM_EXP_DAYS</th>\n",
       "      <th>F_DISTANCE_5_MIN</th>\n",
       "      <th>F_DISTANCE_10_MIN</th>\n",
       "      <th>F_DIFF_SELL_TO_CUST</th>\n",
       "      <th>PROJECT_TYPE_DESCRIPTION_Dossier Compta</th>\n",
       "      <th>PROJECT_TYPE_DESCRIPTION_Dossier Social</th>\n",
       "    </tr>\n",
       "  </thead>\n",
       "  <tbody>\n",
       "    <tr>\n",
       "      <th>0</th>\n",
       "      <td>-0.422891</td>\n",
       "      <td>1.0</td>\n",
       "      <td>-0.862400</td>\n",
       "      <td>-0.354671</td>\n",
       "      <td>1.809897</td>\n",
       "      <td>-0.382609</td>\n",
       "      <td>0.0</td>\n",
       "      <td>-0.973449</td>\n",
       "      <td>-1.035315</td>\n",
       "      <td>0.0</td>\n",
       "      <td>0.0</td>\n",
       "      <td>0.0</td>\n",
       "      <td>1.0</td>\n",
       "      <td>0.0</td>\n",
       "    </tr>\n",
       "    <tr>\n",
       "      <th>1</th>\n",
       "      <td>-0.422891</td>\n",
       "      <td>1.0</td>\n",
       "      <td>-0.659197</td>\n",
       "      <td>-0.354671</td>\n",
       "      <td>1.857145</td>\n",
       "      <td>-0.167601</td>\n",
       "      <td>0.0</td>\n",
       "      <td>-0.941883</td>\n",
       "      <td>-1.157927</td>\n",
       "      <td>0.0</td>\n",
       "      <td>0.0</td>\n",
       "      <td>0.0</td>\n",
       "      <td>1.0</td>\n",
       "      <td>0.0</td>\n",
       "    </tr>\n",
       "    <tr>\n",
       "      <th>2</th>\n",
       "      <td>-0.422891</td>\n",
       "      <td>1.0</td>\n",
       "      <td>0.939335</td>\n",
       "      <td>0.037381</td>\n",
       "      <td>-0.571403</td>\n",
       "      <td>-0.382609</td>\n",
       "      <td>1.0</td>\n",
       "      <td>-0.917807</td>\n",
       "      <td>-1.035989</td>\n",
       "      <td>0.0</td>\n",
       "      <td>0.0</td>\n",
       "      <td>0.0</td>\n",
       "      <td>1.0</td>\n",
       "      <td>0.0</td>\n",
       "    </tr>\n",
       "  </tbody>\n",
       "</table>\n",
       "</div>"
      ],
      "text/plain": [
       "   INVOICE_RATE_HOUR  REG_OBJECT_INVOICED  REMARK_LENGTH  \\\n",
       "0          -0.422891                  1.0      -0.862400   \n",
       "1          -0.422891                  1.0      -0.659197   \n",
       "2          -0.422891                  1.0       0.939335   \n",
       "\n",
       "   INTERNAL_REMARK_LENGTH  LINE_TARIFF  LINE_ORIGINAL_QUANTITY  \\\n",
       "0               -0.354671     1.809897               -0.382609   \n",
       "1               -0.354671     1.857145               -0.167601   \n",
       "2                0.037381    -0.571403               -0.382609   \n",
       "\n",
       "   F_PRESTATION_BY_PM  F_COLLEAGUE_EXP_DAYS  F_PM_EXP_DAYS  F_DISTANCE_5_MIN  \\\n",
       "0                 0.0             -0.973449      -1.035315               0.0   \n",
       "1                 0.0             -0.941883      -1.157927               0.0   \n",
       "2                 1.0             -0.917807      -1.035989               0.0   \n",
       "\n",
       "   F_DISTANCE_10_MIN  F_DIFF_SELL_TO_CUST  \\\n",
       "0                0.0                  0.0   \n",
       "1                0.0                  0.0   \n",
       "2                0.0                  0.0   \n",
       "\n",
       "   PROJECT_TYPE_DESCRIPTION_Dossier Compta  \\\n",
       "0                                      1.0   \n",
       "1                                      1.0   \n",
       "2                                      1.0   \n",
       "\n",
       "   PROJECT_TYPE_DESCRIPTION_Dossier Social  \n",
       "0                                      0.0  \n",
       "1                                      0.0  \n",
       "2                                      0.0  "
      ]
     },
     "execution_count": 21,
     "metadata": {},
     "output_type": "execute_result"
    }
   ],
   "source": [
    "# Show example bag\n",
    "pd.DataFrame(data=bags_train_2_std[bag_idx], columns=features).head(3)"
   ]
  },
  {
   "cell_type": "code",
   "execution_count": null,
   "id": "d2504a24-81b2-41f9-b881-3fcada0f951c",
   "metadata": {},
   "outputs": [
    {
     "name": "stderr",
     "output_type": "stream",
     "text": [
      "100%|████████████████████████████████████████████████████████████████████████████████████| 1/1 [00:00<00:00, 62.51it/s]"
     ]
    },
    {
     "name": "stdout",
     "output_type": "stream",
     "text": [
      "length = 9565; max = 1.00; min = 0.00\n"
     ]
    },
    {
     "name": "stderr",
     "output_type": "stream",
     "text": [
      "\n"
     ]
    },
    {
     "data": {
      "text/plain": [
       "array([0.78455988, 0.81967869, 0.82827194, ..., 0.86680364, 0.88928543,\n",
       "       0.81395576])"
      ]
     },
     "execution_count": 22,
     "metadata": {},
     "output_type": "execute_result"
    }
   ],
   "source": [
    "# Transfrom one bag\n",
    "test, test_closest = bag_miles_mapping.transform([bags_train_2_std[bag_idx]])\n",
    "test, test_closest = test[0], test_closest[0] \n",
    "print('length = {}; max = {:.2f}; min = {:.2f}'.format(len(test), test.max(), test.min()))\n",
    "test"
   ]
  },
  {
   "cell_type": "code",
   "execution_count": 23,
   "id": "db7b2136-d427-4927-9519-cbd52d8c62bb",
   "metadata": {
    "scrolled": true,
    "tags": []
   },
   "outputs": [
    {
     "name": "stdout",
     "output_type": "stream",
     "text": [
      "2 lines in iip are similar to one of the lines of this bag.\n"
     ]
    },
    {
     "data": {
      "text/html": [
       "<div>\n",
       "<style scoped>\n",
       "    .dataframe tbody tr th:only-of-type {\n",
       "        vertical-align: middle;\n",
       "    }\n",
       "\n",
       "    .dataframe tbody tr th {\n",
       "        vertical-align: top;\n",
       "    }\n",
       "\n",
       "    .dataframe thead th {\n",
       "        text-align: right;\n",
       "    }\n",
       "</style>\n",
       "<table border=\"1\" class=\"dataframe\">\n",
       "  <thead>\n",
       "    <tr style=\"text-align: right;\">\n",
       "      <th></th>\n",
       "      <th>INVOICE_RATE_HOUR</th>\n",
       "      <th>REG_OBJECT_INVOICED</th>\n",
       "      <th>REMARK_LENGTH</th>\n",
       "      <th>INTERNAL_REMARK_LENGTH</th>\n",
       "      <th>LINE_TARIFF</th>\n",
       "      <th>LINE_ORIGINAL_QUANTITY</th>\n",
       "      <th>F_PRESTATION_BY_PM</th>\n",
       "      <th>F_COLLEAGUE_EXP_DAYS</th>\n",
       "      <th>F_PM_EXP_DAYS</th>\n",
       "      <th>F_DISTANCE_5_MIN</th>\n",
       "      <th>F_DISTANCE_10_MIN</th>\n",
       "      <th>F_DIFF_SELL_TO_CUST</th>\n",
       "      <th>PROJECT_TYPE_DESCRIPTION_Dossier Compta</th>\n",
       "      <th>PROJECT_TYPE_DESCRIPTION_Dossier Social</th>\n",
       "    </tr>\n",
       "  </thead>\n",
       "  <tbody>\n",
       "    <tr>\n",
       "      <th>0</th>\n",
       "      <td>74.181183</td>\n",
       "      <td>1.0</td>\n",
       "      <td>49.0</td>\n",
       "      <td>0.0</td>\n",
       "      <td>83.199997</td>\n",
       "      <td>10.0</td>\n",
       "      <td>1.0</td>\n",
       "      <td>117.0</td>\n",
       "      <td>117.0</td>\n",
       "      <td>1.0</td>\n",
       "      <td>0.0</td>\n",
       "      <td>0.0</td>\n",
       "      <td>1.0</td>\n",
       "      <td>0.0</td>\n",
       "    </tr>\n",
       "    <tr>\n",
       "      <th>1</th>\n",
       "      <td>76.430435</td>\n",
       "      <td>1.0</td>\n",
       "      <td>46.0</td>\n",
       "      <td>0.0</td>\n",
       "      <td>83.199997</td>\n",
       "      <td>10.0</td>\n",
       "      <td>1.0</td>\n",
       "      <td>234.0</td>\n",
       "      <td>234.0</td>\n",
       "      <td>1.0</td>\n",
       "      <td>0.0</td>\n",
       "      <td>0.0</td>\n",
       "      <td>1.0</td>\n",
       "      <td>0.0</td>\n",
       "    </tr>\n",
       "  </tbody>\n",
       "</table>\n",
       "</div>"
      ],
      "text/plain": [
       "   INVOICE_RATE_HOUR  REG_OBJECT_INVOICED  REMARK_LENGTH  \\\n",
       "0          74.181183                  1.0           49.0   \n",
       "1          76.430435                  1.0           46.0   \n",
       "\n",
       "   INTERNAL_REMARK_LENGTH  LINE_TARIFF  LINE_ORIGINAL_QUANTITY  \\\n",
       "0                     0.0    83.199997                    10.0   \n",
       "1                     0.0    83.199997                    10.0   \n",
       "\n",
       "   F_PRESTATION_BY_PM  F_COLLEAGUE_EXP_DAYS  F_PM_EXP_DAYS  F_DISTANCE_5_MIN  \\\n",
       "0                 1.0                 117.0          117.0               1.0   \n",
       "1                 1.0                 234.0          234.0               1.0   \n",
       "\n",
       "   F_DISTANCE_10_MIN  F_DIFF_SELL_TO_CUST  \\\n",
       "0                0.0                  0.0   \n",
       "1                0.0                  0.0   \n",
       "\n",
       "   PROJECT_TYPE_DESCRIPTION_Dossier Compta  \\\n",
       "0                                      1.0   \n",
       "1                                      1.0   \n",
       "\n",
       "   PROJECT_TYPE_DESCRIPTION_Dossier Social  \n",
       "0                                      0.0  \n",
       "1                                      0.0  "
      ]
     },
     "execution_count": 23,
     "metadata": {},
     "output_type": "execute_result"
    }
   ],
   "source": [
    "from utils.utils import bags2instances\n",
    "\n",
    "# Intermediary instance pool\n",
    "iip = bags2instances(bags_train_1)\n",
    "\n",
    "# Show similar lines from iip compared with example bag\n",
    "print('{} lines in iip are similar to one of the lines of this bag.'.format(len(np.where(test > .999)[0])))\n",
    "pd.DataFrame(data=iip[np.where(test > .999)], columns=features).head(50)"
   ]
  },
  {
   "cell_type": "markdown",
   "id": "7838f044-3dbb-47f4-85d6-88b62756df68",
   "metadata": {},
   "source": [
    "### Apply MILES Mapping on data set"
   ]
  },
  {
   "cell_type": "code",
   "execution_count": 25,
   "id": "5941173f-1208-4038-9367-7ac6566895f4",
   "metadata": {},
   "outputs": [
    {
     "name": "stderr",
     "output_type": "stream",
     "text": [
      "100%|██████████████████████████████████████████████████████████████████████████████| 1078/1078 [00:18<00:00, 59.05it/s]\n",
      "100%|██████████████████████████████████████████████████████████████████████████████| 1073/1073 [00:20<00:00, 53.02it/s]\n"
     ]
    }
   ],
   "source": [
    "bags_train_std_miles, bags_train_std_miles_closest = bag_miles_mapping.transform(bags_train_1_std)\n",
    "\n",
    "bags_validation_std_miles, bags_validation_std_miles_closest = bag_miles_mapping.transform(bags_train_2_std)"
   ]
  },
  {
   "cell_type": "markdown",
   "id": "a8e71335-ae43-4b83-8957-3c1f78947695",
   "metadata": {},
   "source": [
    "## Oversample\n",
    "\n",
    "Oversampling has the very same effect as introducing a Misclassification Cost Matrix. Oversampling is the easier approach as we don't need to alter the algorithm. We prefer to work on the data level rather than the algorithm level"
   ]
  },
  {
   "cell_type": "code",
   "execution_count": 27,
   "id": "83aadea8-5293-4f9d-88b4-2ba69bf4cc4e",
   "metadata": {},
   "outputs": [
    {
     "name": "stdout",
     "output_type": "stream",
     "text": [
      "731 positive bags (invoices)\n"
     ]
    },
    {
     "data": {
      "image/png": "[encoded data removed]",
      "text/plain": [
       "<Figure size 216x144 with 1 Axes>"
      ]
     },
     "metadata": {
      "needs_background": "light"
     },
     "output_type": "display_data"
    }
   ],
   "source": [
    "def print_label_balance(labels):\n",
    "    print(\"{} positive bags (invoices)\".format(labels[labels == 1].shape[0]))\n",
    "\n",
    "    fig = plt.figure(figsize=(3, 2))\n",
    "    ax = fig.add_axes([0,0,1,1])\n",
    "    ax.bar([True, False], [labels[labels == 1].shape[0], labels[labels == 0].shape[0]], tick_label=[True, False])\n",
    "    ax.set(title='label_inv-rounded-up')\n",
    "    plt.show()\n",
    "\n",
    "print_label_balance(y_round_up_bag_train_1)"
   ]
  },
  {
   "cell_type": "code",
   "execution_count": 28,
   "id": "7ce9761e-c5c6-4f14-823b-0338ec2b70d4",
   "metadata": {},
   "outputs": [],
   "source": [
    "from imblearn.over_sampling import SMOTE\n",
    "\n",
    "def oversample_smote(X, y, balance):\n",
    "    oversample = SMOTE(sampling_strategy = balance, random_state = 0, k_neighbors = 3)\n",
    "    X, y = oversample.fit_resample(X, y)\n",
    "    return X, y"
   ]
  },
  {
   "cell_type": "code",
   "execution_count": 29,
   "id": "00f44773-1de7-46bb-873e-359a260f4671",
   "metadata": {},
   "outputs": [],
   "source": [
    "#bags_train_std_miles_oversampled, y_bag_train_oversampled = oversample_smote(bags_train_std_miles, y_bag_train, 1)\n",
    "#print_label_balance(y_bag_train_oversampled)"
   ]
  },
  {
   "cell_type": "markdown",
   "id": "91d39e69-b8df-47dd-8010-68796d5ea058",
   "metadata": {
    "tags": []
   },
   "source": [
    "## Model: Random forest"
   ]
  },
  {
   "cell_type": "code",
   "execution_count": 68,
   "id": "14590209-df17-45aa-bb1b-f5b1f604371f",
   "metadata": {},
   "outputs": [],
   "source": [
    "from sklearn.metrics import roc_curve, roc_auc_score, precision_recall_curve, confusion_matrix\n",
    "\n",
    "def model_evaluation(y, y_predicted, min_recall=.95, prob_col=1):\n",
    "    y_predicted = np.array([float(i) for i in y_predicted.iloc[:, prob_col]])\n",
    "    \n",
    "    #Get ROC values for entire validation set\n",
    "    fpr, tpr, _ = roc_curve(y_true=y, y_score=y_predicted)\n",
    "    print(\"AUC = {}\".format(roc_auc_score(y, y_predicted)))\n",
    "    \n",
    "    # Get Precision/Recall\n",
    "    precision, recall, thresholds = precision_recall_curve(y_true=y, probas_pred=y_predicted)\n",
    "    thresholds = [0] + thresholds.tolist()\n",
    "    min_recall_threshold = thresholds[np.abs(recall - min_recall).argmin()]\n",
    "    \n",
    "    # Calulate specificity at this rate\n",
    "    tn, fp, fn, tp = confusion_matrix(y, y_predicted>min_recall_threshold).ravel()\n",
    "    specificity = (tn / (tn+fp))*100\n",
    "    \n",
    "    print('Recall of {:.2f} % reached on {:.3f} threshold. This equals a {:.3f}  % precision'.format(min_recall*100, min_recall_threshold, specificity))\n",
    "    \n",
    "    # Create figure\n",
    "    fig, axs = plt.subplots(nrows=1, ncols=3, figsize=(20, 5), dpi=80)\n",
    "    \n",
    "    # Figure 1 - ROC\n",
    "    axs[0].plot(fpr, tpr, lw=1, color='black')\n",
    "    axs[0].plot([0, 1], [0, 1], color='black', linestyle='dashed')\n",
    "    axs[0].set(xlabel='False Positive Rate', ylabel='True Positive Rate', title='ROC', xlim=[-0.05, 1.05], ylim=[-0.05, 1.05])\n",
    "    \n",
    "    # Figure 2 - Precision/Recall\n",
    "    axs[1].plot(recall, precision, lw=1, color='black')\n",
    "    axs[1].set(xlabel='Recall', ylabel='Precision', title='Precision/Recall', xlim=[-0.05, 1.05], ylim=[-0.05, 1.05])\n",
    "    \n",
    "    # Figure 3 - Precision/Recall\n",
    "    axs[2].plot(thresholds, precision, label='precision', lw=1, color='black', ls='dotted')\n",
    "    axs[2].plot(thresholds, recall, label='recall', lw=1, color='black', ls='dashed')\n",
    "    axs[2].axhline(min_recall, lw=1, color='red')\n",
    "    axs[2].axvline(min_recall_threshold, ls='--', lw=1, color='black')\n",
    "    axs[2].legend()\n",
    "    axs[2].set(xlabel='Threshold', ylabel='Recall/Precision', title='Precision/Recall', xlim=[-0.05, 1.05], ylim=[-0.05, 1.05])\n",
    "    \n",
    "    return min_recall_threshold, specificity"
   ]
  },
  {
   "cell_type": "markdown",
   "id": "50c72445-8678-441b-98aa-dea1750d6ca2",
   "metadata": {},
   "source": [
    "### Fit RF Model"
   ]
  },
  {
   "cell_type": "code",
   "execution_count": 32,
   "id": "62c503d2-c553-44d4-bff5-dccc411a37f9",
   "metadata": {},
   "outputs": [
    {
     "name": "stderr",
     "output_type": "stream",
     "text": [
      "C:\\Users\\Ward\\AppData\\Roaming\\Python\\Python39\\site-packages\\sklearn\\ensemble\\_forest.py:427: FutureWarning: `max_features='auto'` has been deprecated in 1.1 and will be removed in 1.3. To keep the past behaviour, explicitly set `max_features='sqrt'` or remove this parameter as it is also the default value for RandomForestClassifiers and ExtraTreesClassifiers.\n",
      "  warn(\n"
     ]
    },
    {
     "name": "stdout",
     "output_type": "stream",
     "text": [
      "RandomForest fitting time: 6.28 sec\n"
     ]
    }
   ],
   "source": [
    "from sklearn.ensemble import RandomForestClassifier\n",
    "\n",
    "rf = RandomForestClassifier(n_estimators=800, max_depth=10, random_state=None, max_features='auto', bootstrap=True, n_jobs=-1)\n",
    "\n",
    "start_time = time.time()\n",
    "rf.fit(X=bags_train_std_miles, y=y_round_up_bag_train_1)\n",
    "print(\"RandomForest fitting time: {:.2f} sec\".format(time.time() - start_time))"
   ]
  },
  {
   "cell_type": "markdown",
   "id": "01727c32-15d0-475f-af66-36ea1f28e88d",
   "metadata": {},
   "source": [
    "### Evaluate on Validation set"
   ]
  },
  {
   "cell_type": "code",
   "execution_count": 33,
   "id": "7f8b3138-634e-4ca4-9b6e-79dde12e018f",
   "metadata": {},
   "outputs": [
    {
     "name": "stdout",
     "output_type": "stream",
     "text": [
      "RandomForest prediction time (validation set): 0.32 sec\n"
     ]
    }
   ],
   "source": [
    "start_time = time.time()\n",
    "y_bag_validation_pred = pd.DataFrame(rf.predict_proba(bags_validation_std_miles))\n",
    "print(\"RandomForest prediction time (validation set): {:.2f} sec\".format(time.time() - start_time))"
   ]
  },
  {
   "cell_type": "code",
   "execution_count": 69,
   "id": "c8dc98a7-589b-42f5-ab7a-092f108fc991",
   "metadata": {},
   "outputs": [
    {
     "name": "stdout",
     "output_type": "stream",
     "text": [
      "AUC = 0.7065465384000056\n",
      "Recall of 95.00 % reached on 0.404 threshold. This equals a 21.002  % precision\n"
     ]
    },
    {
     "data": {
      "image/png": "[encoded data removed]",
      "text/plain": [
       "<Figure size 1600x400 with 3 Axes>"
      ]
     },
     "metadata": {
      "needs_background": "light"
     },
     "output_type": "display_data"
    }
   ],
   "source": [
    "min_threshold, specificity = model_evaluation(y_round_up_bag_train_2, y_bag_validation_pred)"
   ]
  },
  {
   "cell_type": "code",
   "execution_count": 53,
   "id": "32228eff-538a-40c4-80bb-663115e65910",
   "metadata": {},
   "outputs": [
    {
     "data": {
      "text/html": [
       "<div>\n",
       "<style scoped>\n",
       "    .dataframe tbody tr th:only-of-type {\n",
       "        vertical-align: middle;\n",
       "    }\n",
       "\n",
       "    .dataframe tbody tr th {\n",
       "        vertical-align: top;\n",
       "    }\n",
       "\n",
       "    .dataframe thead th {\n",
       "        text-align: right;\n",
       "    }\n",
       "</style>\n",
       "<table border=\"1\" class=\"dataframe\">\n",
       "  <thead>\n",
       "    <tr style=\"text-align: right;\">\n",
       "      <th></th>\n",
       "      <th>PRED_FALSE</th>\n",
       "      <th>PRED_TRUE</th>\n",
       "    </tr>\n",
       "  </thead>\n",
       "  <tbody>\n",
       "    <tr>\n",
       "      <th>ACTUAL_FALSE</th>\n",
       "      <td>0.210019</td>\n",
       "      <td>0.789981</td>\n",
       "    </tr>\n",
       "    <tr>\n",
       "      <th>ACTUAL_TRUE</th>\n",
       "      <td>0.050542</td>\n",
       "      <td>0.949458</td>\n",
       "    </tr>\n",
       "  </tbody>\n",
       "</table>\n",
       "</div>"
      ],
      "text/plain": [
       "              PRED_FALSE  PRED_TRUE\n",
       "ACTUAL_FALSE    0.210019   0.789981\n",
       "ACTUAL_TRUE     0.050542   0.949458"
      ]
     },
     "execution_count": 53,
     "metadata": {},
     "output_type": "execute_result"
    }
   ],
   "source": [
    "from sklearn.metrics import confusion_matrix\n",
    "\n",
    "threshold = min_threshold #0.2\n",
    "\n",
    "pd.DataFrame(confusion_matrix(y_round_up_bag_train_2, y_bag_validation_pred.iloc[:, 1]>threshold, normalize='true'), columns=['PRED_FALSE', 'PRED_TRUE'], index=['ACTUAL_FALSE', 'ACTUAL_TRUE'])"
   ]
  },
  {
   "cell_type": "code",
   "execution_count": 54,
   "id": "30069656-db58-46a8-8188-ff7f9ed3f8b6",
   "metadata": {},
   "outputs": [
    {
     "data": {
      "text/plain": [
       "(array([0, 1]), array([519, 554], dtype=int64))"
      ]
     },
     "execution_count": 54,
     "metadata": {},
     "output_type": "execute_result"
    }
   ],
   "source": [
    "np.unique(y_round_up_bag_train_2, return_counts=True)"
   ]
  },
  {
   "cell_type": "code",
   "execution_count": 66,
   "id": "5d4fbca8-e565-4d54-bf40-117de1838aba",
   "metadata": {},
   "outputs": [
    {
     "data": {
      "text/html": [
       "<div>\n",
       "<style scoped>\n",
       "    .dataframe tbody tr th:only-of-type {\n",
       "        vertical-align: middle;\n",
       "    }\n",
       "\n",
       "    .dataframe tbody tr th {\n",
       "        vertical-align: top;\n",
       "    }\n",
       "\n",
       "    .dataframe thead th {\n",
       "        text-align: right;\n",
       "    }\n",
       "</style>\n",
       "<table border=\"1\" class=\"dataframe\">\n",
       "  <thead>\n",
       "    <tr style=\"text-align: right;\">\n",
       "      <th></th>\n",
       "      <th>PRED_FALSE</th>\n",
       "      <th>PRED_TRUE</th>\n",
       "    </tr>\n",
       "  </thead>\n",
       "  <tbody>\n",
       "    <tr>\n",
       "      <th>ACTUAL_FALSE</th>\n",
       "      <td>109</td>\n",
       "      <td>410</td>\n",
       "    </tr>\n",
       "    <tr>\n",
       "      <th>ACTUAL_TRUE</th>\n",
       "      <td>28</td>\n",
       "      <td>526</td>\n",
       "    </tr>\n",
       "  </tbody>\n",
       "</table>\n",
       "</div>"
      ],
      "text/plain": [
       "              PRED_FALSE  PRED_TRUE\n",
       "ACTUAL_FALSE         109        410\n",
       "ACTUAL_TRUE           28        526"
      ]
     },
     "execution_count": 66,
     "metadata": {},
     "output_type": "execute_result"
    }
   ],
   "source": [
    "pd.DataFrame(confusion_matrix(y_round_up_bag_train_2, y_bag_validation_pred.iloc[:, 1]>threshold), columns=['PRED_FALSE', 'PRED_TRUE'], index=['ACTUAL_FALSE', 'ACTUAL_TRUE'])"
   ]
  },
  {
   "cell_type": "code",
   "execution_count": null,
   "id": "01de00fe-a9ac-40a5-9e49-909a096e9e12",
   "metadata": {},
   "outputs": [],
   "source": []
  },
  {
   "cell_type": "code",
   "execution_count": null,
   "id": "e2915d3c-6122-4178-8002-3b1fa226ad26",
   "metadata": {},
   "outputs": [],
   "source": []
  },
  {
   "cell_type": "code",
   "execution_count": null,
   "id": "7519b664-ae12-4f3f-8213-10e51bab0936",
   "metadata": {},
   "outputs": [],
   "source": []
  },
  {
   "cell_type": "code",
   "execution_count": null,
   "id": "315405d8-7abf-403f-90a0-0daacf910d9b",
   "metadata": {},
   "outputs": [],
   "source": []
  },
  {
   "cell_type": "code",
   "execution_count": null,
   "id": "5e305167-5dbf-4935-9669-bbaf354a1eb8",
   "metadata": {},
   "outputs": [],
   "source": []
  },
  {
   "cell_type": "code",
   "execution_count": null,
   "id": "222c497b-db0b-4bd9-83aa-5ae0cb1f70ec",
   "metadata": {},
   "outputs": [],
   "source": []
  },
  {
   "cell_type": "code",
   "execution_count": null,
   "id": "acebf84b-de2f-4ca0-9151-71750e39f885",
   "metadata": {},
   "outputs": [],
   "source": []
  },
  {
   "cell_type": "code",
   "execution_count": null,
   "id": "9b54e8c8-56d1-4d5f-9f85-86dc836f079a",
   "metadata": {},
   "outputs": [],
   "source": []
  },
  {
   "cell_type": "code",
   "execution_count": null,
   "id": "a7c281ee-3076-4019-954b-ba7a0ca16305",
   "metadata": {},
   "outputs": [],
   "source": []
  },
  {
   "cell_type": "code",
   "execution_count": null,
   "id": "942ca631-9e78-4159-91d1-9c453aacd995",
   "metadata": {},
   "outputs": [],
   "source": []
  },
  {
   "cell_type": "code",
   "execution_count": null,
   "id": "fc46e93e-1fc8-4964-8630-f4c9a51e9147",
   "metadata": {},
   "outputs": [],
   "source": []
  },
  {
   "cell_type": "code",
   "execution_count": null,
   "id": "eb394599-9682-420d-b1e8-7cca517b5f26",
   "metadata": {},
   "outputs": [],
   "source": []
  },
  {
   "cell_type": "code",
   "execution_count": null,
   "id": "d8e48ebe-adb3-4889-9dc4-e52136678caf",
   "metadata": {},
   "outputs": [],
   "source": []
  },
  {
   "cell_type": "code",
   "execution_count": 37,
   "id": "0557310a-cf4f-40d5-ae63-138b621eac0c",
   "metadata": {},
   "outputs": [
    {
     "ename": "Exception",
     "evalue": "Stop",
     "output_type": "error",
     "traceback": [
      "\u001b[1;31m---------------------------------------------------------------------------\u001b[0m",
      "\u001b[1;31mException\u001b[0m                                 Traceback (most recent call last)",
      "Input \u001b[1;32mIn [37]\u001b[0m, in \u001b[0;36m<cell line: 1>\u001b[1;34m()\u001b[0m\n\u001b[1;32m----> 1\u001b[0m \u001b[38;5;28;01mraise\u001b[39;00m(\u001b[38;5;167;01mException\u001b[39;00m(\u001b[38;5;124m'\u001b[39m\u001b[38;5;124mStop\u001b[39m\u001b[38;5;124m'\u001b[39m))\n",
      "\u001b[1;31mException\u001b[0m: Stop"
     ]
    }
   ],
   "source": [
    "raise(Exception('Stop'))"
   ]
  },
  {
   "cell_type": "markdown",
   "id": "d98debf9-a32f-4fc3-ad97-aa7346e56886",
   "metadata": {},
   "source": [
    "# Admin queries"
   ]
  },
  {
   "cell_type": "code",
   "execution_count": null,
   "id": "1d0ba297-9104-471c-9b2e-a9a83d607951",
   "metadata": {},
   "outputs": [],
   "source": [
    "from admin import admin_sql\n",
    "\n",
    "cnxn_admin_sql = admin_sql.AdminSql(r'C:\\Users\\Ward.RFN\\Downloads\\credentials\\AdminSQL_Credentials_Production.json')\n",
    "\n",
    "df = cnxn_admin_sql.sql_query('''\n",
    "                                SELECT i.INVOICE_NR, i.INVOICE_DATE, ild.*\n",
    "                                FROM DBA.INVOICE i\n",
    "                                LEFT JOIN DBA.INVOICE_LINES ild ON i.INVOICE_ID = ild.INVOICE_ID\n",
    "                                WHERE i.INVOICE_ID = '589271' ''')\n",
    "df.head()"
   ]
  },
  {
   "cell_type": "code",
   "execution_count": null,
   "id": "bdc3ebc6-c2de-47c1-9d56-29e0d08c0c82",
   "metadata": {},
   "outputs": [],
   "source": [
    "589271"
   ]
  },
  {
   "cell_type": "code",
   "execution_count": null,
   "id": "6fa7b5e3-80f1-434d-b675-e3b05e9c8b9d",
   "metadata": {},
   "outputs": [],
   "source": []
  },
  {
   "cell_type": "code",
   "execution_count": null,
   "id": "44a6212a-ae89-42b1-935d-72093361fad0",
   "metadata": {},
   "outputs": [],
   "source": []
  },
  {
   "cell_type": "code",
   "execution_count": null,
   "id": "46122eb6-1a56-4092-b164-79d59bea314e",
   "metadata": {},
   "outputs": [],
   "source": []
  },
  {
   "cell_type": "code",
   "execution_count": null,
   "id": "7d2bb6b5-978c-4ce7-8d20-5f151c77aef8",
   "metadata": {},
   "outputs": [],
   "source": []
  },
  {
   "cell_type": "code",
   "execution_count": null,
   "id": "c61421a9-c24d-464f-8df5-08611710da87",
   "metadata": {},
   "outputs": [],
   "source": []
  },
  {
   "cell_type": "markdown",
   "id": "1ab336e0-34bb-4150-935b-0837ed7be09a",
   "metadata": {},
   "source": [
    "# Search CustomerId via InvoiceNR"
   ]
  },
  {
   "cell_type": "code",
   "execution_count": null,
   "id": "134ba97a-6382-4412-b674-933c30366e28",
   "metadata": {},
   "outputs": [],
   "source": [
    "from admin import admin_sql\n",
    "invoice_nr = 2207804\n",
    "print('Invoice nr = {}'.format(invoice_nr))\n",
    "cnxn_sql = admin_sql.AdminSql(r'C:\\Users\\Ward.RFN\\Downloads\\credentials\\AdminSQL_Credentials_Production.json')\n",
    "print('Customer Id = {}'.format(cnxn_sql.sql_query('SELECT CUSTOMER_ID FROM DBA.INVOICE WHERE INVOICE_NR = \\'{}\\''.format(invoice_nr))['CUSTOMER_ID'].iloc[0]))"
   ]
  },
  {
   "cell_type": "code",
   "execution_count": null,
   "id": "2f6d9f89-cc48-4277-8b5e-3b46dda21a77",
   "metadata": {},
   "outputs": [],
   "source": []
  }
 ],
 "metadata": {
  "kernelspec": {
   "display_name": "Python 3 (ipykernel)",
   "language": "python",
   "name": "python3"
  },
  "language_info": {
   "codemirror_mode": {
    "name": "ipython",
    "version": 3
   },
   "file_extension": ".py",
   "mimetype": "text/x-python",
   "name": "python",
   "nbconvert_exporter": "python",
   "pygments_lexer": "ipython3",
   "version": "3.9.12"
  },
  "toc-autonumbering": true
 },
 "nbformat": 4,
 "nbformat_minor": 5
}
